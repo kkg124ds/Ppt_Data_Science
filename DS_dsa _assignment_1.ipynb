{
 "cells": [
  {
   "cell_type": "code",
   "execution_count": 1,
   "metadata": {},
   "outputs": [
    {
     "name": "stdout",
     "output_type": "stream",
     "text": [
      "!!dlrow ,olleH\n"
     ]
    }
   ],
   "source": [
    "## 1.Write a Python program to reverse a string without using any built-in string reversal functions.\n",
    "\n",
    "def reverse_string(string):\n",
    "    reversed_string = \"\"\n",
    "    for char in string:\n",
    "        reversed_string = char + reversed_string\n",
    "    return reversed_string\n",
    "\n",
    "# Example \n",
    "input_string = \"Hello, world!!\"\n",
    "reversed_string = reverse_string(input_string)\n",
    "print(reversed_string)\n"
   ]
  },
  {
   "cell_type": "code",
   "execution_count": 2,
   "metadata": {},
   "outputs": [
    {
     "name": "stdout",
     "output_type": "stream",
     "text": [
      "Palindrome\n"
     ]
    }
   ],
   "source": [
    "## 2.Implement a function to check if a given string is a palindrome.\n",
    "def is_palindrome(string):\n",
    "    reversed_string = reverse_string(string)\n",
    "    return string == reversed_string\n",
    "\n",
    "# Example \n",
    "input_string = \"racecar\"\n",
    "if is_palindrome(input_string):\n",
    "    print(\"Palindrome\")\n",
    "else:\n",
    "    print(\"Not a palindrome\")\n"
   ]
  },
  {
   "cell_type": "code",
   "execution_count": 3,
   "metadata": {},
   "outputs": [
    {
     "name": "stdout",
     "output_type": "stream",
     "text": [
      "89\n"
     ]
    }
   ],
   "source": [
    "## 3.Write a program to find the largest element in a given list.\n",
    "\n",
    "def find_largest_element(lst):\n",
    "    largest = lst[0]\n",
    "    for num in lst:\n",
    "        if num > largest:\n",
    "            largest = num\n",
    "    return largest\n",
    "\n",
    "# Example\n",
    "numbers = [12, 45, 67, 89, 23, 9]\n",
    "largest_num = find_largest_element(numbers)\n",
    "print(largest_num)\n"
   ]
  },
  {
   "cell_type": "code",
   "execution_count": 4,
   "metadata": {},
   "outputs": [
    {
     "name": "stdout",
     "output_type": "stream",
     "text": [
      "{1: 2, 2: 2, 3: 3, 4: 3, 5: 1}\n"
     ]
    }
   ],
   "source": [
    "## 4.Implement a function to count the occurrence of each element in a list.\n",
    "\n",
    "def count_elements(lst):\n",
    "    count_dict = {}\n",
    "    for element in lst:\n",
    "        if element in count_dict:\n",
    "            count_dict[element] += 1\n",
    "        else:\n",
    "            count_dict[element] = 1\n",
    "    return count_dict\n",
    "\n",
    "# Example\n",
    "numbers = [1, 2, 3, 2, 1, 3, 3, 4, 5, 4, 4]\n",
    "occurrence_count = count_elements(numbers)\n",
    "print(occurrence_count)\n"
   ]
  },
  {
   "cell_type": "code",
   "execution_count": 5,
   "metadata": {},
   "outputs": [
    {
     "name": "stdout",
     "output_type": "stream",
     "text": [
      "The second largest number is: 12\n"
     ]
    }
   ],
   "source": [
    "## 5.Write a Python program to find the second largest number in a list.\n",
    "\n",
    "def find_second_largest(lst):\n",
    "    if len(lst) < 2:\n",
    "        return None\n",
    "    largest = max(lst[0], lst[1])\n",
    "    second_largest = min(lst[0], lst[1])\n",
    "    for num in lst[2:]:\n",
    "        if num > largest:\n",
    "            second_largest = largest\n",
    "            largest = num\n",
    "        elif num > second_largest:\n",
    "            second_largest = num\n",
    "    return second_largest\n",
    "\n",
    "# Example \n",
    "numbers = [10, 5, 8, 12, 3, 15, 7]\n",
    "second_largest_num = find_second_largest(numbers)\n",
    "print(\"The second largest number is:\", second_largest_num)\n"
   ]
  },
  {
   "cell_type": "code",
   "execution_count": 6,
   "metadata": {},
   "outputs": [
    {
     "name": "stdout",
     "output_type": "stream",
     "text": [
      "List with duplicates removed: [1, 2, 3, 4, 5]\n"
     ]
    }
   ],
   "source": [
    "## 6.Implement a function to remove duplicate elements from a list.\n",
    "\n",
    "def remove_duplicates(lst):\n",
    "    return list(set(lst))\n",
    "\n",
    "# Example \n",
    "numbers = [1, 2, 3, 2, 1, 3, 4, 5, 1, 4, 4]\n",
    "unique_numbers = remove_duplicates(numbers)\n",
    "print(\"List with duplicates removed:\", unique_numbers)\n"
   ]
  },
  {
   "cell_type": "code",
   "execution_count": 7,
   "metadata": {},
   "outputs": [
    {
     "name": "stdout",
     "output_type": "stream",
     "text": [
      "The factorial of 5 is: 120\n"
     ]
    }
   ],
   "source": [
    "## 7. Write a program to calculate the factorial of a given number.\n",
    "def factorial(n):\n",
    "    if n == 0:\n",
    "        return 1\n",
    "    else:\n",
    "        return n * factorial(n - 1)\n",
    "\n",
    "# Example \n",
    "number = 5\n",
    "result = factorial(number)\n",
    "print(f\"The factorial of {number} is:\", result)\n"
   ]
  },
  {
   "cell_type": "code",
   "execution_count": 8,
   "metadata": {},
   "outputs": [
    {
     "name": "stdout",
     "output_type": "stream",
     "text": [
      "17 is a prime number.\n"
     ]
    }
   ],
   "source": [
    "## 8.Implement a function to check if a given number is prime.\n",
    "\n",
    "def is_prime(n):\n",
    "    if n < 2:\n",
    "        return False\n",
    "    for i in range(2, int(n ** 0.5) + 1):\n",
    "        if n % i == 0:\n",
    "            return False\n",
    "    return True\n",
    "\n",
    "# Example \n",
    "number = 17\n",
    "if is_prime(number):\n",
    "    print(f\"{number} is a prime number.\")\n",
    "else:\n",
    "    print(f\"{number} is not a prime number.\")\n"
   ]
  },
  {
   "cell_type": "code",
   "execution_count": 9,
   "metadata": {},
   "outputs": [
    {
     "name": "stdout",
     "output_type": "stream",
     "text": [
      "List sorted in ascending order: [1, 2, 3, 4, 5, 8]\n"
     ]
    }
   ],
   "source": [
    "## 9. Write a Python program to sort a list of integers in ascending order\n",
    "def ascending_sort(lst):\n",
    "    return sorted(lst)\n",
    "\n",
    "# Example \n",
    "numbers = [5, 2, 8, 3, 1, 4]\n",
    "sorted_numbers = ascending_sort(numbers)\n",
    "print(\"List sorted in ascending order:\", sorted_numbers)\n"
   ]
  },
  {
   "cell_type": "code",
   "execution_count": 10,
   "metadata": {},
   "outputs": [
    {
     "name": "stdout",
     "output_type": "stream",
     "text": [
      "The sum of numbers is: 15\n"
     ]
    }
   ],
   "source": [
    "## 10.Implement a function to find the sum of all numbers in a list.\n",
    "def find_sum(lst):\n",
    "    return sum(lst)\n",
    "\n",
    "# Example \n",
    "numbers = [1, 2, 3, 4, 5]\n",
    "sum_of_numbers = find_sum(numbers)\n",
    "print(\"The sum of numbers is:\", sum_of_numbers)\n"
   ]
  },
  {
   "cell_type": "code",
   "execution_count": 1,
   "metadata": {},
   "outputs": [
    {
     "name": "stdout",
     "output_type": "stream",
     "text": [
      "[4, 5]\n"
     ]
    }
   ],
   "source": [
    "## 11.Write a program to find the common elements between two lists.\n",
    "\n",
    "def find_common_elements(list1, list2):\n",
    "    common_elements = []\n",
    "    for element in list1:\n",
    "        if element in list2:\n",
    "            common_elements.append(element)\n",
    "    return common_elements\n",
    "\n",
    "# Example:\n",
    "list1 = [1, 2, 3, 4, 5]\n",
    "list2 = [4, 5, 6, 7, 8]\n",
    "print(find_common_elements(list1, list2))  \n"
   ]
  },
  {
   "cell_type": "code",
   "execution_count": 3,
   "metadata": {},
   "outputs": [
    {
     "name": "stdout",
     "output_type": "stream",
     "text": [
      "True\n"
     ]
    }
   ],
   "source": [
    "## 12. Implement a function to check if a given string is an anagram of another string.\n",
    "\n",
    "def is_anagram(str1, str2):\n",
    "    # Remove spaces and convert strings to lowercase\n",
    "    str1 = str1.replace(' ', '').lower()\n",
    "    str2 = str2.replace(' ', '').lower()\n",
    "\n",
    "    # Check if the sorted characters of both strings match\n",
    "    return sorted(str1) == sorted(str2)\n",
    "\n",
    "# Example \n",
    "string1 = \"Listen\"\n",
    "string2 = \"Silent\"\n",
    "print(is_anagram(string1, string2))\n"
   ]
  },
  {
   "cell_type": "code",
   "execution_count": 4,
   "metadata": {},
   "outputs": [
    {
     "name": "stdout",
     "output_type": "stream",
     "text": [
      "['abc', 'acb', 'bac', 'bca', 'cab', 'cba']\n"
     ]
    }
   ],
   "source": [
    "## 13.Write a Python program to generate all permutations of a given string.\n",
    "\n",
    "import itertools\n",
    "\n",
    "def generate_permutations(string):\n",
    "    # Generate permutations using itertools.permutations()\n",
    "    permutations = list(itertools.permutations(string))\n",
    "    \n",
    "    # Convert each permutation tuple to a string\n",
    "    permutations = [''.join(permutation) for permutation in permutations]\n",
    "    \n",
    "    return permutations\n",
    "\n",
    "# Example\n",
    "string = \"abc\"\n",
    "print(generate_permutations(string))  \n"
   ]
  },
  {
   "cell_type": "code",
   "execution_count": 5,
   "metadata": {},
   "outputs": [
    {
     "name": "stdout",
     "output_type": "stream",
     "text": [
      "[0, 1, 1, 2, 3, 5, 8, 13, 21, 34]\n"
     ]
    }
   ],
   "source": [
    "## 14.Implement a function to calculate the Fibonacci sequence up to a given number of terms.\n",
    "\n",
    "def fibonacci_sequence(n):\n",
    "    sequence = [0, 1]  # Initialize with the first two Fibonacci numbers\n",
    "\n",
    "    # Generate Fibonacci sequence\n",
    "    while len(sequence) < n:\n",
    "        next_number = sequence[-1] + sequence[-2]\n",
    "        sequence.append(next_number)\n",
    "\n",
    "    return sequence\n",
    "\n",
    "# Example \n",
    "num_terms = 10\n",
    "print(fibonacci_sequence(num_terms))\n"
   ]
  },
  {
   "cell_type": "code",
   "execution_count": 6,
   "metadata": {},
   "outputs": [
    {
     "name": "stdout",
     "output_type": "stream",
     "text": [
      "5\n"
     ]
    }
   ],
   "source": [
    "## 15. Write a program to find the median of a list of numbers.\n",
    "\n",
    "def find_median(numbers):\n",
    "    sorted_numbers = sorted(numbers)\n",
    "    n = len(sorted_numbers)\n",
    "    mid_index = n // 2\n",
    "    \n",
    "    if n % 2 == 0:\n",
    "        # List has even number of elements, average the middle two\n",
    "        median = (sorted_numbers[mid_index - 1] + sorted_numbers[mid_index]) / 2\n",
    "    else:\n",
    "        # List has odd number of elements, take the middle element\n",
    "        median = sorted_numbers[mid_index]\n",
    "    \n",
    "    return median\n",
    "\n",
    "# Example\n",
    "number_list = [4, 2, 9, 7, 5, 1, 6, 8, 3]\n",
    "print(find_median(number_list)) \n"
   ]
  },
  {
   "cell_type": "code",
   "execution_count": 8,
   "metadata": {},
   "outputs": [
    {
     "name": "stdout",
     "output_type": "stream",
     "text": [
      "True\n",
      "False\n"
     ]
    }
   ],
   "source": [
    "## 16.Implement a function to check if a given list is sorted in non-decreasing order.\n",
    "\n",
    "def is_sorted(arr):\n",
    "    for i in range(len(arr) - 1):\n",
    "        if arr[i] > arr[i + 1]:\n",
    "            return False\n",
    "    return True\n",
    "# Example\n",
    "list1 = [1, 2, 3, 4, 5]\n",
    "print(is_sorted(list1)) \n",
    "\n",
    "list2 = [5, 3, 1, 2, 4]\n",
    "print(is_sorted(list2))  \n"
   ]
  },
  {
   "cell_type": "code",
   "execution_count": 9,
   "metadata": {},
   "outputs": [
    {
     "name": "stdout",
     "output_type": "stream",
     "text": [
      "[4, 5]\n"
     ]
    }
   ],
   "source": [
    "##17. Write a Python program to find the intersection of two lists.\n",
    "\n",
    "def find_intersection(list1, list2):\n",
    "    return list(set(list1) & set(list2))\n",
    "\n",
    "#Example\n",
    "list1 = [1, 2, 3, 4, 5]\n",
    "list2 = [4, 5, 6, 7, 8]\n",
    "print(find_intersection(list1, list2))  \n"
   ]
  },
  {
   "cell_type": "code",
   "execution_count": 10,
   "metadata": {},
   "outputs": [
    {
     "name": "stdout",
     "output_type": "stream",
     "text": [
      "18\n",
      "7\n"
     ]
    }
   ],
   "source": [
    "##18. Implement a function to find the maximum subarray sum in a given list.\n",
    "def max_subarray_sum(arr):\n",
    "    max_sum = arr[0]\n",
    "    current_sum = arr[0]\n",
    "\n",
    "    for num in arr[1:]:\n",
    "        current_sum = max(num, current_sum + num)\n",
    "        max_sum = max(max_sum, current_sum)\n",
    "\n",
    "    return max_sum\n",
    "\n",
    "# Examples\n",
    "list1 = [1, -2, 3, 10, -4, 7, 2, -5]\n",
    "print(max_subarray_sum(list1))  \n",
    "\n",
    "list2 = [-2, -3, 4, -1, -2, 1, 5, -3]\n",
    "print(max_subarray_sum(list2))  \n",
    "\n"
   ]
  },
  {
   "cell_type": "code",
   "execution_count": 11,
   "metadata": {},
   "outputs": [
    {
     "name": "stdout",
     "output_type": "stream",
     "text": [
      "Hll, Wrld!\n"
     ]
    }
   ],
   "source": [
    "##19. Write a program to remove all vowels from a given string.\n",
    "def remove_vowels(string):\n",
    "    vowels = ['a', 'e', 'i', 'o', 'u']\n",
    "    result = ''\n",
    "\n",
    "    for char in string:\n",
    "        if char.lower() not in vowels:\n",
    "            result += char\n",
    "\n",
    "    return result\n",
    "\n",
    "# Example\n",
    "text = \"Hello, World!\"\n",
    "print(remove_vowels(text))  \n",
    "\n"
   ]
  },
  {
   "cell_type": "code",
   "execution_count": 12,
   "metadata": {},
   "outputs": [
    {
     "name": "stdout",
     "output_type": "stream",
     "text": [
      "World! Hello,\n"
     ]
    }
   ],
   "source": [
    "## 20. Implement a function to reverse the order of words in a given sentence.  \n",
    "def reverse_words(sentence):\n",
    "    words = sentence.split()\n",
    "    reversed_sentence = ' '.join(reversed(words))\n",
    "    return reversed_sentence\n",
    "\n",
    "#Example\n",
    "sentence = \"Hello, World!\"\n",
    "print(reverse_words(sentence)) \n",
    "\n"
   ]
  },
  {
   "cell_type": "code",
   "execution_count": 23,
   "metadata": {},
   "outputs": [
    {
     "name": "stdout",
     "output_type": "stream",
     "text": [
      "True\n"
     ]
    }
   ],
   "source": [
    "## 21. Write a Python program to check if two strings are anagrams of each other.\n",
    "def areAnagrams(str1, str2):\n",
    "    return sorted(str1) == sorted(str2)\n",
    "\n",
    "# Example \n",
    "str1 = \"listen\"\n",
    "str2 = \"silent\"\n",
    "print(areAnagrams(str1, str2))  \n"
   ]
  },
  {
   "cell_type": "code",
   "execution_count": 25,
   "metadata": {},
   "outputs": [
    {
     "name": "stdout",
     "output_type": "stream",
     "text": [
      "c\n"
     ]
    }
   ],
   "source": [
    "##22. Implement a function to find the first non-repeating character in a string.\n",
    "def first_non_repeating_char(string):\n",
    "    char_counts = {}\n",
    "    for char in string:\n",
    "        if char in char_counts:\n",
    "            char_counts[char] += 1\n",
    "        else:\n",
    "            char_counts[char] = 1\n",
    "    for char in string:\n",
    "        if char_counts[char] == 1:\n",
    "            return char\n",
    "    return None\n",
    "\n",
    "# Example \n",
    "string = \"abracadabra\"\n",
    "print(first_non_repeating_char(string))\n"
   ]
  },
  {
   "cell_type": "code",
   "execution_count": 27,
   "metadata": {},
   "outputs": [
    {
     "name": "stdout",
     "output_type": "stream",
     "text": [
      "[2, 2, 3, 3]\n"
     ]
    }
   ],
   "source": [
    "##23. Write a program to find the prime factors of a given number.\n",
    "def prime_factors(n):\n",
    "    factors = []\n",
    "    d = 2\n",
    "    while n > 1:\n",
    "        while n % d == 0:\n",
    "            factors.append(d)\n",
    "            n /= d\n",
    "        d += 1\n",
    "    return factors\n",
    "\n",
    "# Example \n",
    "number = 36\n",
    "print(prime_factors(number))"
   ]
  },
  {
   "cell_type": "code",
   "execution_count": 28,
   "metadata": {},
   "outputs": [
    {
     "name": "stdout",
     "output_type": "stream",
     "text": [
      "True\n"
     ]
    }
   ],
   "source": [
    "##24. Implement a function to check if a given number is a power of two.\n",
    "def is_power_of_two(n):\n",
    "    return n > 0 and (n & (n - 1)) == 0\n",
    "\n",
    "# Example\n",
    "n = 16\n",
    "print(is_power_of_two(n))"
   ]
  },
  {
   "cell_type": "code",
   "execution_count": 29,
   "metadata": {},
   "outputs": [
    {
     "name": "stdout",
     "output_type": "stream",
     "text": [
      "[1, 2, 3, 4, 5, 6]\n"
     ]
    }
   ],
   "source": [
    "##25. Write a Python program to merge two sorted lists into a single sorted list.\n",
    "from heapq import merge\n",
    "\n",
    "def merge_sorted_lists(list1, list2):\n",
    "    return list(merge(list1, list2))\n",
    "\n",
    "# Examples\n",
    "list1 = [1, 3, 5]\n",
    "list2 = [2, 4, 6]\n",
    "print(merge_sorted_lists(list1, list2))\n"
   ]
  },
  {
   "cell_type": "code",
   "execution_count": 30,
   "metadata": {},
   "outputs": [
    {
     "name": "stdout",
     "output_type": "stream",
     "text": [
      "5\n"
     ]
    }
   ],
   "source": [
    "##26. Implement a function to find the mode of a list of numbers.\n",
    "def mode(numbers):\n",
    "    counts = {}\n",
    "    for num in numbers:\n",
    "        if num in counts:\n",
    "            counts[num] += 1\n",
    "        else:\n",
    "            counts[num] = 1\n",
    "    max_count = max(counts.values())\n",
    "    modes = [num for num, count in counts.items() if count == max_count]\n",
    "    return modes[0] if len(modes) == 1 else modes\n",
    "\n",
    "# Example \n",
    "numbers = [1, 2, 3, 2, 4, 4, 5, 5, 5]\n",
    "print(mode(numbers))\n"
   ]
  },
  {
   "cell_type": "code",
   "execution_count": 31,
   "metadata": {},
   "outputs": [
    {
     "name": "stdout",
     "output_type": "stream",
     "text": [
      "12\n"
     ]
    }
   ],
   "source": [
    "##27. Write a program to find the greatest common divisor (GCD) of two numbers.\n",
    "def find_gcd(a, b):\n",
    "    while b:\n",
    "        a, b = b, a % b\n",
    "    return a\n",
    "\n",
    "# Example \n",
    "num1 = 24\n",
    "num2 = 36\n",
    "print(find_gcd(num1, num2))"
   ]
  },
  {
   "cell_type": "code",
   "execution_count": 33,
   "metadata": {},
   "outputs": [
    {
     "name": "stdout",
     "output_type": "stream",
     "text": [
      "4.0\n"
     ]
    }
   ],
   "source": [
    "##28. Implement a function to calculate the square root of a given number.\n",
    "import math\n",
    "\n",
    "def square_root(n):\n",
    "    return math.sqrt(n)\n",
    "\n",
    "# Example \n",
    "number = 16\n",
    "print(square_root(number) )\n"
   ]
  },
  {
   "cell_type": "code",
   "execution_count": 34,
   "metadata": {},
   "outputs": [
    {
     "name": "stdout",
     "output_type": "stream",
     "text": [
      "True\n"
     ]
    }
   ],
   "source": [
    "##29. Write a Python program to check if a given string is a valid palindrome ignoring non-alphanumeric characters.\n",
    "def is_palindrome(string):\n",
    "    left, right = 0, len(string) - 1\n",
    "    while left < right:\n",
    "        while left < right and not string[left].isalnum():\n",
    "            left += 1\n",
    "        while left < right and not string[right].isalnum():\n",
    "            right -= 1\n",
    "        if string[left].lower() != string[right].lower():\n",
    "            return False\n",
    "        left += 1\n",
    "        right -= 1\n",
    "    return True\n",
    "\n",
    "# Example \n",
    "string = \"A man, a plan, a canal: Panama\"\n",
    "print(is_palindrome(string))\n"
   ]
  },
  {
   "cell_type": "code",
   "execution_count": 36,
   "metadata": {},
   "outputs": [
    {
     "name": "stdout",
     "output_type": "stream",
     "text": [
      "2\n"
     ]
    }
   ],
   "source": [
    "##30. Implement a function to find the minimum element in a rotated sorted list.\n",
    "def findMin(nums):\n",
    "    left = 0\n",
    "    right = len(nums) - 1\n",
    "\n",
    "    while left < right:\n",
    "        mid = left + (right - left) // 2\n",
    "\n",
    "        if nums[mid] > nums[right]:\n",
    "            left = mid + 1\n",
    "        else:\n",
    "            right = mid\n",
    "\n",
    "    return nums[left]\n",
    "\n",
    "# Example \n",
    "numbers = [4, 5, 6, 7, 9, 22, 2]\n",
    "print(findMin(numbers))  \n"
   ]
  },
  {
   "cell_type": "code",
   "execution_count": 7,
   "metadata": {},
   "outputs": [
    {
     "name": "stdout",
     "output_type": "stream",
     "text": [
      "The sum of all even numbers in [1, 2, 3, 4, 5, 6] is 12.\n"
     ]
    }
   ],
   "source": [
    "##31. Write a program to find the sum of all even numbers in a list.\n",
    "def sum_of_evens(numbers):\n",
    "    total = 0\n",
    "    for num in numbers:\n",
    "        if num % 2 == 0:\n",
    "            total += num\n",
    "    return total\n",
    "\n",
    "# Example:\n",
    "numbers = [1, 2, 3, 4, 5, 6]\n",
    "result = sum_of_evens(numbers)\n",
    "print(f\"The sum of all even numbers in {numbers} is {result}.\")\n"
   ]
  },
  {
   "cell_type": "code",
   "execution_count": 8,
   "metadata": {},
   "outputs": [
    {
     "name": "stdout",
     "output_type": "stream",
     "text": [
      "2 to the power of 3 is 8.\n"
     ]
    }
   ],
   "source": [
    "##32. Implement a function to calculate the power of a number using recursion.\n",
    "def power(base, exponent):\n",
    "    if exponent == 0:\n",
    "        return 1\n",
    "    elif exponent % 2 == 0:\n",
    "        return power(base, exponent // 2) ** 2\n",
    "    else:\n",
    "        return base * power(base, exponent - 1)\n",
    "\n",
    "# Example:\n",
    "base = 2\n",
    "exponent = 3\n",
    "result = power(base, exponent)\n",
    "print(f\"{base} to the power of {exponent} is {result}.\")\n"
   ]
  },
  {
   "cell_type": "code",
   "execution_count": 9,
   "metadata": {},
   "outputs": [
    {
     "name": "stdout",
     "output_type": "stream",
     "text": [
      "The list [1, 2, 3, 2, 4, 3] without duplicates is [1, 2, 3, 4].\n"
     ]
    }
   ],
   "source": [
    "##33. Write a Python program to remove duplicates from a list while preserving the order.\n",
    "def remove_duplicates(numbers):\n",
    "    seen = set()\n",
    "    return [num for num in numbers if not (num in seen or seen.add(num))]\n",
    "\n",
    "# Example:\n",
    "numbers = [1, 2, 3, 2, 4, 3]\n",
    "result = remove_duplicates(numbers)\n",
    "print(f\"The list {numbers} without duplicates is {result}.\")\n"
   ]
  },
  {
   "cell_type": "code",
   "execution_count": 10,
   "metadata": {},
   "outputs": [
    {
     "name": "stdout",
     "output_type": "stream",
     "text": [
      "The longest common prefix among ['flower', 'flow', 'flight'] is 'fl'.\n"
     ]
    }
   ],
   "source": [
    "##34. Implement a function to find the longest common prefix among a list of strings.\n",
    "def longest_common_prefix(strings):\n",
    "    if not strings:\n",
    "        return \"\"\n",
    "    prefix = strings[0]\n",
    "    for string in strings[1:]:\n",
    "        while not string.startswith(prefix):\n",
    "            prefix = prefix[:-1]\n",
    "            if not prefix:\n",
    "                return \"\"\n",
    "    return prefix\n",
    "\n",
    "# Example:\n",
    "strings = [\"flower\", \"flow\", \"flight\"]\n",
    "result = longest_common_prefix(strings)\n",
    "print(f\"The longest common prefix among {strings} is '{result}'.\")\n"
   ]
  },
  {
   "cell_type": "code",
   "execution_count": 11,
   "metadata": {},
   "outputs": [
    {
     "name": "stdout",
     "output_type": "stream",
     "text": [
      "16 is a perfect square: True.\n"
     ]
    }
   ],
   "source": [
    "##35. Write a program to check if a given number is a perfect square.\n",
    "def is_perfect_square(n):\n",
    "    root = int(n ** 0.5)\n",
    "    return root ** 2 == n\n",
    "\n",
    "# Example:\n",
    "n = 16\n",
    "result = is_perfect_square(n)\n",
    "print(f\"{n} is a perfect square: {result}.\")\n"
   ]
  },
  {
   "cell_type": "code",
   "execution_count": 12,
   "metadata": {},
   "outputs": [
    {
     "name": "stdout",
     "output_type": "stream",
     "text": [
      "The product of all elements in [1, 2, 3, 4] is 24.\n"
     ]
    }
   ],
   "source": [
    "##36. Implement a function to calculate the product of all elements in a list.\n",
    "def product(numbers):\n",
    "    total = 1\n",
    "    for num in numbers:\n",
    "        total *= num\n",
    "    return total\n",
    "\n",
    "# Example:\n",
    "numbers = [1, 2, 3, 4]\n",
    "result = product(numbers)\n",
    "print(f\"The product of all elements in {numbers} is {result}.\")\n"
   ]
  },
  {
   "cell_type": "code",
   "execution_count": 13,
   "metadata": {},
   "outputs": [
    {
     "name": "stdout",
     "output_type": "stream",
     "text": [
      "The sentence 'The quick brown fox jumps over the lazy dog' with reversed word order is 'dog lazy the over jumps fox brown quick The'.\n"
     ]
    }
   ],
   "source": [
    "##37. Write a Python program to reverse the order of words in a sentence while preserving the word order.\n",
    "def reverse_words(sentence):\n",
    "    words = sentence.split()\n",
    "    return \" \".join(reversed(words))\n",
    "\n",
    "# Example:\n",
    "sentence = \"The quick brown fox jumps over the lazy dog\"\n",
    "result = reverse_words(sentence)\n",
    "print(f\"The sentence '{sentence}' with reversed word order is '{result}'.\")\n"
   ]
  },
  {
   "cell_type": "code",
   "execution_count": 14,
   "metadata": {},
   "outputs": [
    {
     "name": "stdout",
     "output_type": "stream",
     "text": [
      "The missing number in [1, 2, 3, 4, 6] is 5.\n"
     ]
    }
   ],
   "source": [
    "##38. Implement a function to find the missing number in a given list of consecutive numbers.\n",
    "def missing_number(numbers):\n",
    "    n = len(numbers) + 1\n",
    "    total_sum = n * (n + 1) // 2\n",
    "    actual_sum = sum(numbers)\n",
    "    return total_sum - actual_sum\n",
    "\n",
    "# Example:\n",
    "numbers = [1, 2, 3, 4, 6]\n",
    "result = missing_number(numbers)\n",
    "print(f\"The missing number in {numbers} is {result}.\")\n"
   ]
  },
  {
   "cell_type": "code",
   "execution_count": 15,
   "metadata": {},
   "outputs": [
    {
     "name": "stdout",
     "output_type": "stream",
     "text": [
      "The sum of digits of 1234 is 10.\n"
     ]
    }
   ],
   "source": [
    "##39. Write a program to find the sum of digits of a given number.\n",
    "def sum_of_digits(n):\n",
    "    total = 0\n",
    "    while n:\n",
    "        total += n % 10\n",
    "        n //= 10\n",
    "    return total\n",
    "\n",
    "# Example:\n",
    "n = 1234\n",
    "result = sum_of_digits(n)\n",
    "print(f\"The sum of digits of {n} is {result}.\")\n"
   ]
  },
  {
   "cell_type": "code",
   "execution_count": 16,
   "metadata": {},
   "outputs": [
    {
     "name": "stdout",
     "output_type": "stream",
     "text": [
      "'racecar' is a valid palindrome considering case sensitivity: True.\n"
     ]
    }
   ],
   "source": [
    "##40. Implement a function to check if a given string is a valid palindrome considering case sensitivity.\n",
    "def is_palindrome(string):\n",
    "    left, right = 0, len(string) - 1\n",
    "    while left < right:\n",
    "        if string[left] != string[right]:\n",
    "            return False\n",
    "        left += 1\n",
    "        right -= 1\n",
    "    return True\n",
    "\n",
    "# Example:\n",
    "string = \"racecar\"\n",
    "result = is_palindrome(string)\n",
    "print(f\"'{string}' is a valid palindrome considering case sensitivity: {result}.\")\n"
   ]
  },
  {
   "cell_type": "code",
   "execution_count": 17,
   "metadata": {},
   "outputs": [
    {
     "name": "stdout",
     "output_type": "stream",
     "text": [
      "The smallest missing positive integer in [1, -1, 3, 4] is 2.\n"
     ]
    }
   ],
   "source": [
    "##41. Write a Python program to find the smallest missing positive integer in a list.\n",
    "def first_missing_positive(nums):\n",
    "    if not nums:\n",
    "        return 1\n",
    "    n = len(nums)\n",
    "    for i in range(n):\n",
    "        while 0 < nums[i] <= n and nums[nums[i] - 1] != nums[i]:\n",
    "            nums[nums[i] - 1], nums[i] = nums[i], nums[nums[i] - 1]\n",
    "    for i in range(n):\n",
    "        if nums[i] != i + 1:\n",
    "            return i + 1\n",
    "    return n + 1\n",
    "\n",
    "# Example:\n",
    "nums = [3, 4, -1, 1]\n",
    "result = first_missing_positive(nums)\n",
    "print(f\"The smallest missing positive integer in {nums} is {result}.\")\n"
   ]
  },
  {
   "cell_type": "code",
   "execution_count": 18,
   "metadata": {},
   "outputs": [
    {
     "name": "stdout",
     "output_type": "stream",
     "text": [
      "The longest palindrome substring in 'babad' is 'bab'.\n"
     ]
    }
   ],
   "source": [
    "##42. Implement a function to find the longest palindrome substring in a given string.\n",
    "def longest_palindrome_substring(string):\n",
    "    n = len(string)\n",
    "    table = [[False for _ in range(n)] for _ in range(n)]\n",
    "    max_length = 1\n",
    "    start = 0\n",
    "    for i in range(n):\n",
    "        table[i][i] = True\n",
    "    for i in range(n - 1):\n",
    "        if string[i] == string[i + 1]:\n",
    "            table[i][i + 1] = True\n",
    "            start = i\n",
    "            max_length = 2\n",
    "    for k in range(3, n + 1):\n",
    "        for i in range(n - k + 1):\n",
    "            j = i + k - 1\n",
    "            if table[i + 1][j - 1] and string[i] == string[j]:\n",
    "                table[i][j] = True\n",
    "                if k > max_length:\n",
    "                    start = i\n",
    "                    max_length = k\n",
    "    return string[start:start + max_length]\n",
    "\n",
    "# Example:\n",
    "string = \"babad\"\n",
    "result = longest_palindrome_substring(string)\n",
    "print(f\"The longest palindrome substring in '{string}' is '{result}'.\")\n"
   ]
  },
  {
   "cell_type": "code",
   "execution_count": 19,
   "metadata": {},
   "outputs": [
    {
     "name": "stdout",
     "output_type": "stream",
     "text": [
      "The number of occurrences of 2 in [1, 2, 3, 2, 4, 3] is 2.\n"
     ]
    }
   ],
   "source": [
    "##43. Write a program to find the number of occurrences of a given element in a list.\n",
    "def count_element(numbers, element):\n",
    "    return numbers.count(element)\n",
    "\n",
    "# Example:\n",
    "numbers = [1, 2, 3, 2, 4, 3]\n",
    "element = 2\n",
    "result = count_element(numbers, element)\n",
    "print(f\"The number of occurrences of {element} in {numbers} is {result}.\")\n"
   ]
  },
  {
   "cell_type": "code",
   "execution_count": 20,
   "metadata": {},
   "outputs": [
    {
     "name": "stdout",
     "output_type": "stream",
     "text": [
      "28 is a perfect number: True.\n"
     ]
    }
   ],
   "source": [
    "##44. Implement a function to check if a given number is a perfect number.\n",
    "def is_perfect_number(n):\n",
    "    divisors_sum = 0\n",
    "    for i in range(1, n // 2 + 1):\n",
    "        if n % i == 0:\n",
    "            divisors_sum += i\n",
    "    return divisors_sum == n\n",
    "\n",
    "# Example:\n",
    "n = 28\n",
    "result = is_perfect_number(n)\n",
    "print(f\"{n} is a perfect number: {result}.\")\n"
   ]
  },
  {
   "cell_type": "code",
   "execution_count": 21,
   "metadata": {},
   "outputs": [
    {
     "name": "stdout",
     "output_type": "stream",
     "text": [
      "The string 'abracadabra' without duplicates is 'abrcd'.\n"
     ]
    }
   ],
   "source": [
    "##45. Write a Python program to remove all duplicates from a string.\n",
    "def remove_duplicates(string):\n",
    "    seen = set()\n",
    "    return \"\".join([char for char in string if not (char in seen or seen.add(char))])\n",
    "\n",
    "# Example:\n",
    "string = \"abracadabra\"\n",
    "result = remove_duplicates(string)\n",
    "print(f\"The string '{string}' without duplicates is '{result}'.\")\n"
   ]
  },
  {
   "cell_type": "code",
   "execution_count": 22,
   "metadata": {},
   "outputs": [
    {
     "name": "stdout",
     "output_type": "stream",
     "text": [
      "The first missing positive integer in [1, -1, 3, 4] is 2.\n"
     ]
    }
   ],
   "source": [
    "##46. Implement a function to find the first missing positive\n",
    "def first_missing_positive(nums):\n",
    "    if not nums:\n",
    "        return 1\n",
    "    n = len(nums)\n",
    "    for i in range(n):\n",
    "        while 0 < nums[i] <= n and nums[nums[i] - 1] != nums[i]:\n",
    "            nums[nums[i] - 1], nums[i] = nums[i], nums[nums[i] - 1]\n",
    "    for i in range(n):\n",
    "        if nums[i] != i + 1:\n",
    "            return i + 1\n",
    "    return n + 1\n",
    "\n",
    "# Example:\n",
    "nums = [3, 4, -1, 1]\n",
    "result = first_missing_positive(nums)\n",
    "print(f\"The first missing positive integer in {nums} is {result}.\")\n"
   ]
  },
  {
   "cell_type": "code",
   "execution_count": null,
   "metadata": {},
   "outputs": [],
   "source": []
  },
  {
   "cell_type": "code",
   "execution_count": null,
   "metadata": {},
   "outputs": [],
   "source": []
  }
 ],
 "metadata": {
  "kernelspec": {
   "display_name": "Python 3",
   "language": "python",
   "name": "python3"
  },
  "language_info": {
   "codemirror_mode": {
    "name": "ipython",
    "version": 3
   },
   "file_extension": ".py",
   "mimetype": "text/x-python",
   "name": "python",
   "nbconvert_exporter": "python",
   "pygments_lexer": "ipython3",
   "version": "3.6.5"
  }
 },
 "nbformat": 4,
 "nbformat_minor": 2
}
